{
 "cells": [
  {
   "metadata": {},
   "cell_type": "markdown",
   "source": [
    "# **Welcome to jupyter notebook!**\n",
    "This is a jupyter notebook, used for teaching and learning code through playable cells.\n",
    "\n",
    "## **First Example**\n",
    "Try running the following cell!"
   ],
   "id": "e7edaf8218ad513a"
  },
  {
   "metadata": {
    "ExecuteTime": {
     "end_time": "2025-10-01T11:45:16.162905Z",
     "start_time": "2025-10-01T11:45:16.126833Z"
    }
   },
   "cell_type": "code",
   "source": [
    "for i in range(10):\n",
    "    print(i)"
   ],
   "id": "d510b51811fffe50",
   "outputs": [
    {
     "name": "stdout",
     "output_type": "stream",
     "text": [
      "0\n",
      "1\n",
      "2\n",
      "3\n",
      "4\n",
      "5\n",
      "6\n",
      "7\n",
      "8\n",
      "9\n"
     ]
    }
   ],
   "execution_count": 1
  },
  {
   "metadata": {},
   "cell_type": "markdown",
   "source": [
    "## **Second Example**\n",
    "Now you see you can run code in jupyter notebook, but you can also edit / write the code by yourself, the following code isn't working. Try to figure out why, fix it and run it!"
   ],
   "id": "28a03f4eec492393"
  },
  {
   "metadata": {
    "ExecuteTime": {
     "end_time": "2025-10-01T12:14:35.598798Z",
     "start_time": "2025-10-01T12:14:31.240308Z"
    }
   },
   "cell_type": "code",
   "source": [
    "\n",
    "a == 0\n",
    "for i in rnge(10):\n",
    "    a +== 1/2**i\n",
    "\n",
    "pritn(a)"
   ],
   "id": "c5657e8f9c20dfe2",
   "outputs": [
    {
     "ename": "KeyboardInterrupt",
     "evalue": "",
     "output_type": "error",
     "traceback": [
      "\u001B[0;31m---------------------------------------------------------------------------\u001B[0m",
      "\u001B[0;31mKeyboardInterrupt\u001B[0m                         Traceback (most recent call last)",
      "Cell \u001B[0;32mIn[6], line 3\u001B[0m\n\u001B[1;32m      1\u001B[0m a \u001B[38;5;241m=\u001B[39m \u001B[38;5;241m0\u001B[39m\n\u001B[1;32m      2\u001B[0m \u001B[38;5;28;01mfor\u001B[39;00m i \u001B[38;5;129;01min\u001B[39;00m \u001B[38;5;28mrange\u001B[39m(\u001B[38;5;241m10000000\u001B[39m):\n\u001B[0;32m----> 3\u001B[0m     a \u001B[38;5;241m+\u001B[39m\u001B[38;5;241m=\u001B[39m \u001B[38;5;241m1\u001B[39m\u001B[38;5;241m/\u001B[39m\u001B[38;5;241;43m2\u001B[39;49m\u001B[38;5;241;43m*\u001B[39;49m\u001B[38;5;241;43m*\u001B[39;49m\u001B[43mi\u001B[49m\n\u001B[1;32m      5\u001B[0m \u001B[38;5;28mprint\u001B[39m(a)\n",
      "\u001B[0;31mKeyboardInterrupt\u001B[0m: "
     ]
    }
   ],
   "execution_count": 6
  },
  {
   "metadata": {},
   "cell_type": "markdown",
   "source": [
    "## **Third Example**\n",
    "You can import libraries as well!"
   ],
   "id": "b3bf32b1f8d7edbf"
  },
  {
   "metadata": {
    "ExecuteTime": {
     "end_time": "2025-10-01T12:27:57.735276Z",
     "start_time": "2025-10-01T12:27:57.730839Z"
    }
   },
   "cell_type": "code",
   "source": [
    "import time\n",
    "\n",
    "print(time.time())"
   ],
   "id": "55029049d4dbafe1",
   "outputs": [
    {
     "name": "stdout",
     "output_type": "stream",
     "text": [
      "1759321677.7325351\n"
     ]
    }
   ],
   "execution_count": 8
  },
  {
   "metadata": {},
   "cell_type": "markdown",
   "source": [
    "## **Fourth Example**\n",
    "Be careful the variables and lib imports stay through the whole file after running a cell!"
   ],
   "id": "c74174dee79dba22"
  },
  {
   "metadata": {
    "ExecuteTime": {
     "end_time": "2025-10-01T12:27:59.761903Z",
     "start_time": "2025-10-01T12:27:59.757431Z"
    }
   },
   "cell_type": "code",
   "source": [
    "print(\"a: \", a)\n",
    "print(\"i: \", i)\n",
    "print(time.time())"
   ],
   "id": "4778c566c735c0f3",
   "outputs": [
    {
     "name": "stdout",
     "output_type": "stream",
     "text": [
      "a:  2.0\n",
      "i:  68437\n",
      "1759321679.75966\n"
     ]
    }
   ],
   "execution_count": 9
  }
 ],
 "metadata": {
  "kernelspec": {
   "display_name": "Python 3",
   "language": "python",
   "name": "python3"
  },
  "language_info": {
   "codemirror_mode": {
    "name": "ipython",
    "version": 2
   },
   "file_extension": ".py",
   "mimetype": "text/x-python",
   "name": "python",
   "nbconvert_exporter": "python",
   "pygments_lexer": "ipython2",
   "version": "2.7.6"
  }
 },
 "nbformat": 4,
 "nbformat_minor": 5
}
