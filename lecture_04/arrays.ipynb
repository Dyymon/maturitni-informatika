{
 "cells": [
  {
   "metadata": {},
   "cell_type": "markdown",
   "source": [
    "# Working With Arrays\n",
    "Python is an easy language to work with, but it can be a bit slow, overall its recomended to use inbuilt functions of Python instead of remaking them.\n",
    "\n",
    "## Lists\n",
    "Lets look on some of the functions that work with list type specifically."
   ],
   "id": "b390bf544caf6dee"
  },
  {
   "cell_type": "code",
   "id": "initial_id",
   "metadata": {
    "collapsed": true,
    "ExecuteTime": {
     "end_time": "2025-10-06T12:53:20.449683Z",
     "start_time": "2025-10-06T12:53:20.443600Z"
    }
   },
   "source": [
    "a = ['a', 'b', 'c'] # lets make a list\n",
    "print(\"original list: \", a) # printing list\n",
    "a[0] = 'A' # reassigning\n",
    "print(\"list with reasignment: \", a)  # printing list with reasigned value\n",
    "\n",
    "a.append('d') # you can append into a list\n",
    "print(\"list with appended value: \",a)\n",
    "\n",
    "popped = a.pop() # you can also remove last value from the list\n",
    "print(\"value that was popped: \", popped)\n",
    "print(\"popped last element from list: \", a)\n",
    "\n",
    "popped = a.pop(0)  # you can state where to pop from\n",
    "print(\"value that was popped: \", popped)\n",
    "print(\"popped first element from list: \", a)\n",
    "\n",
    "a.insert(0, 'a') # you can insert a value into a given index\n",
    "print(\"list with inserted value: \", a)\n",
    "\n",
    "a.reverse() # you can reverse a list via the following\n",
    "print(\"reversed list: \", a)\n",
    "\n",
    "val = 'b'\n",
    "idx = a.index(val) # you can ask on which index is a value\n",
    "print(f\"{val} is located on index {idx}\")\n",
    "\n",
    "val = 'a'\n",
    "a.append(val)\n",
    "c = a.count(val) # you can count how many times an item is in list\n",
    "print(f\"there are {c}*{val} in {a}\")"
   ],
   "outputs": [
    {
     "name": "stdout",
     "output_type": "stream",
     "text": [
      "original list:  ['a', 'b', 'c']\n",
      "list with reasignment:  ['A', 'b', 'c']\n",
      "list with appended value:  ['A', 'b', 'c', 'd']\n",
      "value that was popped:  d\n",
      "popped last element from list:  ['A', 'b', 'c']\n",
      "value that was popped:  A\n",
      "popped first element from list:  ['b', 'c']\n",
      "list with inserted value:  ['a', 'b', 'c']\n",
      "reversed list:  ['c', 'b', 'a']\n",
      "b is located on index 1\n",
      "there are 2*a in ['c', 'b', 'a', 'a']\n"
     ]
    }
   ],
   "execution_count": 6
  },
  {
   "metadata": {},
   "cell_type": "markdown",
   "source": [
    "Some of the above functions can be easily be implemented in python, but is it a wise thing to do? Lets time them!\n",
    "\n",
    "Play a bit with the two values list_length and val, how does these two aproaches change with the different list lengths and the location of the value to search for?\n",
    "\n"
   ],
   "id": "ea8747884e7e8d07"
  },
  {
   "metadata": {
    "ExecuteTime": {
     "end_time": "2025-10-08T12:44:47.142037Z",
     "start_time": "2025-10-08T12:44:47.138240Z"
    }
   },
   "cell_type": "code",
   "source": [
    "import time\n",
    "\n",
    "\n",
    "list_length = 200\n",
    "val = 199\n",
    "numbers = [i for i in range(list_length)]\n",
    "\n",
    "\n",
    "# python implementation\n",
    "start = time.time()\n",
    "idx = numbers.index(val)\n",
    "print(f\"{val} is located on index {idx}\")\n",
    "print(\"the time it took: \", time.time() - start)\n",
    "\n",
    "# own implementation\n",
    "start = time.time()\n",
    "for idx, n in enumerate(numbers):\n",
    "    if n is val:\n",
    "        print(f\"{val} is located on index {idx}\")\n",
    "        break\n",
    "\n",
    "print(\"the time it took: \", time.time() - start)\n"
   ],
   "id": "2ae050ab247370e5",
   "outputs": [
    {
     "name": "stdout",
     "output_type": "stream",
     "text": [
      "199 is located on index 199\n",
      "the time it took:  0.0002086162567138672\n",
      "199 is located on index 199\n",
      "the time it took:  6.890296936035156e-05\n"
     ]
    }
   ],
   "execution_count": 52
  },
  {
   "metadata": {},
   "cell_type": "markdown",
   "source": [
    "Well this isn't very scientific, what could be scientific would be a benchmark! So lets write one!\n",
    "\n",
    "We will wrap both of the search algorithms into a function and we will time them. Wait, but we already did that no? Yes but now we will time them every time it takes them to search the array for a value, that moves more and more into a back of an array that is getting longer and longer"
   ],
   "id": "e8f3358a206f7750"
  },
  {
   "metadata": {
    "ExecuteTime": {
     "end_time": "2025-10-08T12:50:39.717534Z",
     "start_time": "2025-10-08T12:50:39.686892Z"
    }
   },
   "cell_type": "code",
   "source": [
    "\n",
    "def my_search(val: int, numbers: list) -> int:\n",
    "    for idx, n in enumerate(numbers):\n",
    "        if n is val: # if n is val:\n",
    "            return idx\n",
    "    return -1\n",
    "\n",
    "def python_search(val: int, numbers: list) -> int:\n",
    "    return numbers.index(val)\n",
    "\n",
    "def benchmark_search(numbers: list, func, step, max_length) -> list:\n",
    "    results = []\n",
    "    for l in range(0, max_length, step):\n",
    "        start = time.time()\n",
    "        func(l, numbers)\n",
    "        results.append(time.time() - start)\n",
    "        if l % 100 == 0:\n",
    "            print(f\"run number {l}\")\n",
    "    return results\n",
    "\n",
    "\n",
    "\n",
    "step = 1\n",
    "max_length = 1000\n",
    "numbers = [i for i in range(max_length)]\n",
    "\n",
    "print(\"******* my search *******\")\n",
    "my_results = benchmark_search(numbers, my_search, step, max_length)\n",
    "print(\"\\n\\n\")\n",
    "\n",
    "print(\"******* python search *******\")\n",
    "python_results = benchmark_search(numbers, python_search, step, max_length)\n",
    "print(\"\\n\\n\")\n",
    "\n"
   ],
   "id": "1caa5446a0f46f74",
   "outputs": [
    {
     "name": "stdout",
     "output_type": "stream",
     "text": [
      "******* my search *******\n",
      "run number 0\n",
      "run number 100\n",
      "run number 200\n",
      "run number 300\n",
      "run number 400\n",
      "run number 500\n",
      "run number 600\n",
      "run number 700\n",
      "run number 800\n",
      "run number 900\n",
      "\n",
      "\n",
      "\n",
      "******* python search *******\n",
      "run number 0\n",
      "run number 100\n",
      "run number 200\n",
      "run number 300\n",
      "run number 400\n",
      "run number 500\n",
      "run number 600\n",
      "run number 700\n",
      "run number 800\n",
      "run number 900\n",
      "\n",
      "\n",
      "\n"
     ]
    }
   ],
   "execution_count": 59
  },
  {
   "metadata": {
    "ExecuteTime": {
     "end_time": "2025-10-08T12:50:42.017548Z",
     "start_time": "2025-10-08T12:50:41.884588Z"
    }
   },
   "cell_type": "code",
   "source": [
    "import matplotlib.pyplot as plt\n",
    "import numpy as np\n",
    "\n",
    "# X values (array lengths)\n",
    "lengths = np.arange(1, max_length + 1, step)\n",
    "\n",
    "# Plot both results\n",
    "plt.figure(figsize=(10, 6))\n",
    "plt.plot(lengths, my_results, label=\"my_search\", marker='o')\n",
    "plt.plot(lengths, python_results, label=\"python_search\", marker='s')\n",
    "plt.title(\"Search Benchmark: Time vs Array Length\")\n",
    "plt.xlabel(\"Array length\")\n",
    "plt.ylabel(\"Execution time (seconds)\")\n",
    "plt.grid(True, linestyle='--', alpha=0.6)\n",
    "plt.legend()\n",
    "plt.tight_layout()\n",
    "plt.show()"
   ],
   "id": "562040e2dddc1bc",
   "outputs": [
    {
     "data": {
      "text/plain": [
       "<Figure size 1000x600 with 1 Axes>"
      ],
      "image/png": "[encoded data removed]"
     },
     "metadata": {},
     "output_type": "display_data",
     "jetTransient": {
      "display_id": null
     }
    }
   ],
   "execution_count": 60
  },
  {
   "metadata": {},
   "cell_type": "markdown",
   "source": [
    "Now these are interesting results, at the stat we can see that these two algorithms follow each other closely bat later they diverge, python implementation taking the lead in how fast it is!\n",
    "\n",
    "Bonus for some point: try replacing the if n == val in my_search() function with if n is val. Rerun the benchmark and plot the results. What just happened?"
   ],
   "id": "c94b0849561bb01b"
  },
  {
   "metadata": {},
   "cell_type": "markdown",
   "source": [
    "## Strings\n",
    "\n",
    "We already introduced strings with lists in previous lectures, now lets go over some simple string functions.\n",
    "Lets start with some we already know from lists!"
   ],
   "id": "469042053e24af74"
  },
  {
   "metadata": {
    "ExecuteTime": {
     "end_time": "2025-10-08T09:50:13.022270Z",
     "start_time": "2025-10-08T09:50:13.018294Z"
    }
   },
   "cell_type": "code",
   "source": [
    "word = \"hello world!\"\n",
    "print(word)\n",
    "\n",
    "# strings have some functions a list has as well, we don't need to introduce these two\n",
    "print(f\"this is the letter on index 0: {word[0]}\")\n",
    "idx = word.index(\" \")\n",
    "print(f\"space is located on index {idx}\")\n",
    "count = word.count(\"l\")\n",
    "print(f\"l in {count} times in the word: {word}\")"
   ],
   "id": "4912547454d8af3b",
   "outputs": [
    {
     "name": "stdout",
     "output_type": "stream",
     "text": [
      "this is the letter on index 0: h\n",
      "space is located on index 5\n",
      "l in 3 times in the word: hello world!\n"
     ]
    }
   ],
   "execution_count": 2
  },
  {
   "metadata": {},
   "cell_type": "markdown",
   "source": "Unlike lists, strings do not support assignment!",
   "id": "25d74b603ebf6b8f"
  },
  {
   "metadata": {
    "ExecuteTime": {
     "end_time": "2025-10-08T09:50:32.919336Z",
     "start_time": "2025-10-08T09:50:32.784200Z"
    }
   },
   "cell_type": "code",
   "source": "word[0] = \"b\" # this will not work",
   "id": "469ddf6034df4b6f",
   "outputs": [
    {
     "ename": "TypeError",
     "evalue": "'str' object does not support item assignment",
     "output_type": "error",
     "traceback": [
      "\u001B[0;31m---------------------------------------------------------------------------\u001B[0m",
      "\u001B[0;31mTypeError\u001B[0m                                 Traceback (most recent call last)",
      "Cell \u001B[0;32mIn[3], line 1\u001B[0m\n\u001B[0;32m----> 1\u001B[0m \u001B[43mword\u001B[49m\u001B[43m[\u001B[49m\u001B[38;5;241;43m0\u001B[39;49m\u001B[43m]\u001B[49m \u001B[38;5;241m=\u001B[39m \u001B[38;5;124m\"\u001B[39m\u001B[38;5;124mb\u001B[39m\u001B[38;5;124m\"\u001B[39m\n",
      "\u001B[0;31mTypeError\u001B[0m: 'str' object does not support item assignment"
     ]
    }
   ],
   "execution_count": 3
  },
  {
   "metadata": {},
   "cell_type": "markdown",
   "source": "Strings have many more functions! Try these functions and see for yourself what each does!",
   "id": "639773a1d9021c98"
  },
  {
   "metadata": {
    "ExecuteTime": {
     "end_time": "2025-10-08T09:58:40.646828Z",
     "start_time": "2025-10-08T09:58:40.643543Z"
    }
   },
   "cell_type": "code",
   "source": [
    "print(word.capitalize()) # will make only the first word with capital letter others with lower case\n",
    "print(word.title()) # makes every word in the string with capital letter\n",
    "print(word.find(\"world\")) # will find a substring in the string and returns its index\n",
    "print(word.replace(\"world\", \"class\")) # will replace given substring with another\n",
    "print(word.split(\" \")) # will split the string using the given string to do so\n",
    "print(\" \".join([\"hey\", \"how\", \"are\", \"you?\"])) # will join the strings with the given string"
   ],
   "id": "6ba6cdfe986f25e1",
   "outputs": [
    {
     "name": "stdout",
     "output_type": "stream",
     "text": [
      "Hello world!\n",
      "Hello World!\n",
      "6\n",
      "hello class!\n",
      "['hello', 'world!']\n",
      "hey how are you?\n"
     ]
    }
   ],
   "execution_count": 19
  },
  {
   "metadata": {},
   "cell_type": "markdown",
   "source": [
    "## Tuples\n",
    "Let us reintroduce tuples and run over them!\n",
    "\n",
    "once again, tupple has many similar functions to other array like structures in python"
   ],
   "id": "b029d89c23c3000"
  },
  {
   "metadata": {},
   "cell_type": "code",
   "outputs": [],
   "execution_count": null,
   "source": [
    "tup = (0,1,2,3, \"a\", 2)\n",
    "print(tup)\n",
    "print(tup[0])\n",
    "print(tup.count(2))\n",
    "print(tup.index(\"a\"))"
   ],
   "id": "c182439788660d8a"
  },
  {
   "metadata": {},
   "cell_type": "markdown",
   "source": "However, similar to string tuples don't support reassignment",
   "id": "ad8e180742bb76c1"
  },
  {
   "metadata": {
    "ExecuteTime": {
     "end_time": "2025-10-08T10:04:14.056030Z",
     "start_time": "2025-10-08T10:04:14.024083Z"
    }
   },
   "cell_type": "code",
   "source": "tup[3] = \"b\"",
   "id": "dded595c4aaf8538",
   "outputs": [
    {
     "ename": "NameError",
     "evalue": "name 'tup' is not defined",
     "output_type": "error",
     "traceback": [
      "\u001B[0;31m---------------------------------------------------------------------------\u001B[0m",
      "\u001B[0;31mNameError\u001B[0m                                 Traceback (most recent call last)",
      "Cell \u001B[0;32mIn[20], line 1\u001B[0m\n\u001B[0;32m----> 1\u001B[0m \u001B[43mtup\u001B[49m[\u001B[38;5;241m3\u001B[39m] \u001B[38;5;241m=\u001B[39m \u001B[38;5;124m\"\u001B[39m\u001B[38;5;124mb\u001B[39m\u001B[38;5;124m\"\u001B[39m\n",
      "\u001B[0;31mNameError\u001B[0m: name 'tup' is not defined"
     ]
    }
   ],
   "execution_count": 20
  },
  {
   "metadata": {},
   "cell_type": "markdown",
   "source": [
    "## Dictionaries\n",
    "This structure isn't like any other array, it doesn't really have indexes, but it stores informations with labels.\n",
    "\n",
    "Let us make an example. We have a class of students, Daniel, Rose and Rick and perhaps we want to store their age."
   ],
   "id": "29e98e53b3c368e8"
  },
  {
   "metadata": {
    "ExecuteTime": {
     "end_time": "2025-10-08T10:08:38.684149Z",
     "start_time": "2025-10-08T10:08:38.681083Z"
    }
   },
   "cell_type": "code",
   "source": [
    "dic = {\"Daniel\": 16, \"Rose\": 17, \"Rick\": 17}\n",
    "print(dic)"
   ],
   "id": "e8441a78d7ba6cdb",
   "outputs": [
    {
     "name": "stdout",
     "output_type": "stream",
     "text": [
      "{'Daniel': 16, 'Rose': 17, 'Rick': 17}\n"
     ]
    }
   ],
   "execution_count": 22
  },
  {
   "metadata": {},
   "cell_type": "markdown",
   "source": "To ask for a specific student, we can simply do the following:",
   "id": "65a03c9ea2d6670a"
  },
  {
   "metadata": {
    "ExecuteTime": {
     "end_time": "2025-10-08T10:10:17.026754Z",
     "start_time": "2025-10-08T10:10:17.023773Z"
    }
   },
   "cell_type": "code",
   "source": [
    "student = \"Daniel\"\n",
    "print(f\"student {student} is {dic[student]} years old\")"
   ],
   "id": "9576a5270ce2a815",
   "outputs": [
    {
     "name": "stdout",
     "output_type": "stream",
     "text": [
      "student Daniel is 16 years old\n"
     ]
    }
   ],
   "execution_count": 26
  },
  {
   "metadata": {},
   "cell_type": "markdown",
   "source": "If perhaps a student has a birthday we can simply reasign the value",
   "id": "6ee38e2a69eda864"
  },
  {
   "metadata": {
    "ExecuteTime": {
     "end_time": "2025-10-08T10:12:03.988130Z",
     "start_time": "2025-10-08T10:12:03.985167Z"
    }
   },
   "cell_type": "code",
   "source": [
    "print(\"before birthday: \", dic)\n",
    "birthday_student = \"Rose\"\n",
    "dic[birthday_student] += 1\n",
    "print(\"after birthday: \", dic)"
   ],
   "id": "2c007f4d119584b0",
   "outputs": [
    {
     "name": "stdout",
     "output_type": "stream",
     "text": [
      "before birthday:  {'Daniel': 16, 'Rose': 18, 'Rick': 17}\n",
      "after birthday:  {'Daniel': 16, 'Rose': 19, 'Rick': 17}\n"
     ]
    }
   ],
   "execution_count": 28
  },
  {
   "metadata": {},
   "cell_type": "markdown",
   "source": "If we get a new student we can add him in a very particular way",
   "id": "b91cef0630e6763d"
  },
  {
   "metadata": {
    "ExecuteTime": {
     "end_time": "2025-10-08T10:13:31.179497Z",
     "start_time": "2025-10-08T10:13:31.176513Z"
    }
   },
   "cell_type": "code",
   "source": [
    "print(\"before new student: \", dic)\n",
    "dic[birthday_student] -= 1\n",
    "new_student = \"Mark\"\n",
    "dic[new_student] = 16\n",
    "print(\"after new student: \", dic)"
   ],
   "id": "769a13b9c97f2570",
   "outputs": [
    {
     "name": "stdout",
     "output_type": "stream",
     "text": [
      "before new student:  {'Daniel': 16, 'Rose': 19, 'Rick': 17}\n",
      "after new student:  {'Daniel': 16, 'Rose': 18, 'Rick': 17, 'Mark': 16}\n"
     ]
    }
   ],
   "execution_count": 29
  },
  {
   "metadata": {},
   "cell_type": "markdown",
   "source": "As any other structures you can save anything under the id, lists, strings, dictionaries, list of dictionaries.",
   "id": "867322c8d23d82f3"
  },
  {
   "metadata": {
    "ExecuteTime": {
     "end_time": "2025-10-08T10:28:37.371368Z",
     "start_time": "2025-10-08T10:28:37.367098Z"
    }
   },
   "cell_type": "code",
   "source": [
    "convoluted_dic = {\"a\": [{12: [0,1,2], \"wth\": \"idk\"}], 0: (0,1,2)}\n",
    "print(\"convoluted dic: \", convoluted_dic)"
   ],
   "id": "de5db9ce18438cff",
   "outputs": [
    {
     "name": "stdout",
     "output_type": "stream",
     "text": [
      "convoluted dic:  {'a': [{12: [0, 1, 2], 'wth': 'idk'}], 0: (0, 1, 2)}\n"
     ]
    }
   ],
   "execution_count": 31
  },
  {
   "metadata": {},
   "cell_type": "markdown",
   "source": "Now as you can save almost anything, another question rises, what can we use as ID? Well almost anything, specifically things that cannot change",
   "id": "a5733ac1fbb8b243"
  },
  {
   "metadata": {
    "ExecuteTime": {
     "end_time": "2025-10-08T10:32:02.341522Z",
     "start_time": "2025-10-08T10:32:02.338403Z"
    }
   },
   "cell_type": "code",
   "source": [
    "int_num = int(2)\n",
    "float_num = float(12.5)\n",
    "string = \"hello\"\n",
    "tup = (0,2,3)\n",
    "\n",
    "dic = {int_num: 0, float_num: 1, string: 2, tup: 3}\n",
    "print(dic)\n"
   ],
   "id": "ad8791722e12f58f",
   "outputs": [
    {
     "name": "stdout",
     "output_type": "stream",
     "text": [
      "{2: 0, 12.5: 1, 'hello': 2, (0, 2, 3): 3}\n"
     ]
    }
   ],
   "execution_count": 32
  },
  {
   "metadata": {},
   "cell_type": "markdown",
   "source": "However using list as ID wont work",
   "id": "4b40807b98775728"
  },
  {
   "metadata": {
    "ExecuteTime": {
     "end_time": "2025-10-08T10:32:40.764351Z",
     "start_time": "2025-10-08T10:32:40.750492Z"
    }
   },
   "cell_type": "code",
   "source": [
    "arr = [0,1,2]\n",
    "dic[arr] = 4"
   ],
   "id": "4b5cd54177ccfdea",
   "outputs": [
    {
     "ename": "TypeError",
     "evalue": "unhashable type: 'list'",
     "output_type": "error",
     "traceback": [
      "\u001B[0;31m---------------------------------------------------------------------------\u001B[0m",
      "\u001B[0;31mTypeError\u001B[0m                                 Traceback (most recent call last)",
      "Cell \u001B[0;32mIn[33], line 2\u001B[0m\n\u001B[1;32m      1\u001B[0m arr \u001B[38;5;241m=\u001B[39m [\u001B[38;5;241m0\u001B[39m,\u001B[38;5;241m1\u001B[39m,\u001B[38;5;241m2\u001B[39m]\n\u001B[0;32m----> 2\u001B[0m \u001B[43mdic\u001B[49m\u001B[43m[\u001B[49m\u001B[43marr\u001B[49m\u001B[43m]\u001B[49m \u001B[38;5;241m=\u001B[39m \u001B[38;5;241m4\u001B[39m\n",
      "\u001B[0;31mTypeError\u001B[0m: unhashable type: 'list'"
     ]
    }
   ],
   "execution_count": 33
  },
  {
   "metadata": {},
   "cell_type": "markdown",
   "source": "Lets now go over some of the functions dictionaries have",
   "id": "ceb5d6c3d18ec68f"
  },
  {
   "metadata": {
    "ExecuteTime": {
     "end_time": "2025-10-08T10:42:23.598208Z",
     "start_time": "2025-10-08T10:42:23.593698Z"
    }
   },
   "cell_type": "code",
   "source": [
    "some_dic = {\"a\": 0, \"b\": 1, \"c\": 2}\n",
    "\n",
    "print(\"the ids, or keys of the dictionary are: \", some_dic.keys())\n",
    "print(\"the items and their ids of the dictionary are: \", some_dic.items())\n",
    "print(\"the values in the dictionary are: \",some_dic.values())\n",
    "\n",
    "# the pop function is back!\n",
    "pop_key = \"a\"\n",
    "popped = some_dic.pop(pop_key)\n",
    "print(f\"form {pop_key} we popped: {popped}\")\n",
    "print(f\"dictionary now misses the key and value of {pop_key}: \",some_dic)\n",
    "\n",
    "# we have also pop item that will pop the \"last\" item\n",
    "popped = some_dic.popitem()\n",
    "print(\"popped value with popitem(): \", popped)\n",
    "print(\"dic without the popped item: \", some_dic)\n",
    "\n",
    "some_dic.clear() # this will delete all in the dictionary\n",
    "print(\"after calling clear() the dictionary is empty: \", some_dic) # now empty dictionary"
   ],
   "id": "d4740ac1d8e4c59a",
   "outputs": [
    {
     "name": "stdout",
     "output_type": "stream",
     "text": [
      "the ids, or keys of the dictionary are:  dict_keys(['a', 'b', 'c'])\n",
      "the items and their ids of the dictionary are:  dict_items([('a', 0), ('b', 1), ('c', 2)])\n",
      "the values in the dictionary are:  dict_values([0, 1, 2])\n",
      "form a we popped: 0\n",
      "dictionary now misses the key and value of a:  {'b': 1, 'c': 2}\n",
      "popped value with popitem():  ('c', 2)\n",
      "dic without the popped item:  {'b': 1}\n",
      "after calling clear() the dictionary is empty:  {}\n"
     ]
    }
   ],
   "execution_count": 51
  }
 ],
 "metadata": {
  "kernelspec": {
   "display_name": "Python 3",
   "language": "python",
   "name": "python3"
  },
  "language_info": {
   "codemirror_mode": {
    "name": "ipython",
    "version": 2
   },
   "file_extension": ".py",
   "mimetype": "text/x-python",
   "name": "python",
   "nbconvert_exporter": "python",
   "pygments_lexer": "ipython2",
   "version": "2.7.6"
  }
 },
 "nbformat": 4,
 "nbformat_minor": 5
}
